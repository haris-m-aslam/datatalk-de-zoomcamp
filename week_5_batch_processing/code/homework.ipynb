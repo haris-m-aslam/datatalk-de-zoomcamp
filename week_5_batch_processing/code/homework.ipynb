{
 "cells": [
  {
   "cell_type": "code",
   "execution_count": 1,
   "id": "b7dd201e",
   "metadata": {},
   "outputs": [],
   "source": [
    "import pyspark\n",
    "from pyspark.sql import SparkSession"
   ]
  },
  {
   "cell_type": "code",
   "execution_count": 2,
   "id": "4757e642",
   "metadata": {},
   "outputs": [
    {
     "name": "stderr",
     "output_type": "stream",
     "text": [
      "WARNING: An illegal reflective access operation has occurred\n",
      "WARNING: Illegal reflective access by org.apache.spark.unsafe.Platform (file:/home/haris/spark/spark-3.0.3-bin-hadoop3.2/jars/spark-unsafe_2.12-3.0.3.jar) to constructor java.nio.DirectByteBuffer(long,int)\n",
      "WARNING: Please consider reporting this to the maintainers of org.apache.spark.unsafe.Platform\n",
      "WARNING: Use --illegal-access=warn to enable warnings of further illegal reflective access operations\n",
      "WARNING: All illegal access operations will be denied in a future release\n",
      "22/02/28 17:25:32 WARN NativeCodeLoader: Unable to load native-hadoop library for your platform... using builtin-java classes where applicable\n",
      "Using Spark's default log4j profile: org/apache/spark/log4j-defaults.properties\n",
      "Setting default log level to \"WARN\".\n",
      "To adjust logging level use sc.setLogLevel(newLevel). For SparkR, use setLogLevel(newLevel).\n",
      "22/02/28 17:25:34 WARN Utils: Service 'SparkUI' could not bind on port 4040. Attempting port 4041.\n"
     ]
    }
   ],
   "source": [
    "spark = SparkSession.builder \\\n",
    "    .master(\"local[*]\") \\\n",
    "    .appName('test') \\\n",
    "    .getOrCreate()"
   ]
  },
  {
   "cell_type": "code",
   "execution_count": 3,
   "id": "0c68f85a",
   "metadata": {},
   "outputs": [
    {
     "data": {
      "text/plain": [
       "'3.0.3'"
      ]
     },
     "execution_count": 3,
     "metadata": {},
     "output_type": "execute_result"
    }
   ],
   "source": [
    "spark.version"
   ]
  },
  {
   "cell_type": "code",
   "execution_count": 7,
   "id": "939621b3",
   "metadata": {},
   "outputs": [
    {
     "name": "stdout",
     "output_type": "stream",
     "text": [
      "--2022-02-28 17:30:21--  https://nyc-tlc.s3.amazonaws.com/trip+data/fhvhv_tripdata_2021-02.csv\n",
      "Resolving nyc-tlc.s3.amazonaws.com (nyc-tlc.s3.amazonaws.com)... 52.217.138.161\n",
      "Connecting to nyc-tlc.s3.amazonaws.com (nyc-tlc.s3.amazonaws.com)|52.217.138.161|:443... connected.\n",
      "HTTP request sent, awaiting response... 200 OK\n",
      "Length: 733822658 (700M) [text/csv]\n",
      "Saving to: ‘fhvhv_tripdata_2021-02.csv’\n",
      "\n",
      "fhvhv_tripdata_2021 100%[===================>] 699.83M  12.4MB/s    in 60s     \n",
      "\n",
      "2022-02-28 17:31:22 (11.7 MB/s) - ‘fhvhv_tripdata_2021-02.csv’ saved [733822658/733822658]\n",
      "\n"
     ]
    }
   ],
   "source": [
    "!wget https://nyc-tlc.s3.amazonaws.com/trip+data/fhvhv_tripdata_2021-02.csv"
   ]
  },
  {
   "cell_type": "code",
   "execution_count": 8,
   "id": "e7ac0830",
   "metadata": {},
   "outputs": [],
   "source": [
    "from pyspark.sql import types"
   ]
  },
  {
   "cell_type": "code",
   "execution_count": 9,
   "id": "faacbfaa",
   "metadata": {},
   "outputs": [],
   "source": [
    "schema = types.StructType([\n",
    "    types.StructField('hvfhs_license_num', types.StringType(), True),\n",
    "    types.StructField('dispatching_base_num', types.StringType(), True),\n",
    "    types.StructField('pickup_datetime', types.TimestampType(), True),\n",
    "    types.StructField('dropoff_datetime', types.TimestampType(), True),\n",
    "    types.StructField('PULocationID', types.IntegerType(), True),\n",
    "    types.StructField('DOLocationID', types.IntegerType(), True),\n",
    "    types.StructField('SR_Flag', types.StringType(), True)\n",
    "])"
   ]
  },
  {
   "cell_type": "code",
   "execution_count": 10,
   "id": "68c5ed5b",
   "metadata": {},
   "outputs": [],
   "source": [
    "df = spark.read \\\n",
    "    .option(\"header\", \"true\") \\\n",
    "    .schema(schema) \\\n",
    "    .csv('fhvhv_tripdata_2021-02.csv')"
   ]
  },
  {
   "cell_type": "code",
   "execution_count": 11,
   "id": "37bc1829",
   "metadata": {},
   "outputs": [],
   "source": [
    "df = df.repartition(24)"
   ]
  },
  {
   "cell_type": "code",
   "execution_count": 12,
   "id": "8eb24f3c",
   "metadata": {},
   "outputs": [
    {
     "name": "stderr",
     "output_type": "stream",
     "text": [
      "                                                                                \r"
     ]
    }
   ],
   "source": [
    "df.write.parquet('fhvhv/2021/02/')"
   ]
  },
  {
   "cell_type": "markdown",
   "id": "9f4b1a2e",
   "metadata": {},
   "source": [
    "go to fhvhv/2021/02 and run ls -lh"
   ]
  },
  {
   "cell_type": "code",
   "execution_count": 37,
   "id": "f59054eb",
   "metadata": {},
   "outputs": [],
   "source": [
    "df = spark.read.parquet('fhvhv/2021/02/')"
   ]
  },
  {
   "cell_type": "code",
   "execution_count": 31,
   "id": "aa402afd",
   "metadata": {},
   "outputs": [
    {
     "data": {
      "text/plain": [
       "11613942"
      ]
     },
     "execution_count": 31,
     "metadata": {},
     "output_type": "execute_result"
    }
   ],
   "source": [
    "df.count()"
   ]
  },
  {
   "cell_type": "code",
   "execution_count": 38,
   "id": "e2f89fc9",
   "metadata": {},
   "outputs": [
    {
     "name": "stdout",
     "output_type": "stream",
     "text": [
      "+-----------------+--------------------+-------------------+-------------------+------------+------------+-------+\n",
      "|hvfhs_license_num|dispatching_base_num|    pickup_datetime|   dropoff_datetime|PULocationID|DOLocationID|SR_Flag|\n",
      "+-----------------+--------------------+-------------------+-------------------+------------+------------+-------+\n",
      "|           HV0003|              B02887|2021-02-06 01:18:35|2021-02-06 01:40:34|         163|         235|   null|\n",
      "|           HV0005|              B02510|2021-02-05 07:13:06|2021-02-05 07:31:56|         225|         181|   null|\n",
      "|           HV0003|              B02869|2021-02-04 16:56:52|2021-02-04 17:21:36|         260|          95|   null|\n",
      "|           HV0003|              B02871|2021-02-03 18:34:17|2021-02-03 18:57:12|         235|          60|   null|\n",
      "|           HV0003|              B02869|2021-02-04 07:25:09|2021-02-04 07:30:34|          55|          55|   null|\n",
      "|           HV0003|              B02836|2021-02-04 23:15:27|2021-02-04 23:34:29|          74|          81|   null|\n",
      "|           HV0003|              B02882|2021-02-05 07:45:49|2021-02-05 08:05:03|         239|         231|   null|\n",
      "|           HV0003|              B02887|2021-02-03 17:33:59|2021-02-03 17:47:14|          95|         196|   null|\n",
      "|           HV0003|              B02877|2021-02-03 09:33:06|2021-02-03 09:45:59|         241|         265|   null|\n",
      "|           HV0003|              B02872|2021-02-02 12:58:46|2021-02-02 13:06:20|          90|         137|   null|\n",
      "|           HV0003|              B02764|2021-02-05 22:25:20|2021-02-05 22:28:27|           7|           7|   null|\n",
      "|           HV0003|              B02882|2021-02-04 19:57:44|2021-02-04 20:05:24|         231|         246|   null|\n",
      "|           HV0003|              B02764|2021-02-02 08:43:57|2021-02-02 08:53:46|         108|          29|   null|\n",
      "|           HV0003|              B02866|2021-02-04 05:51:50|2021-02-04 06:21:25|          11|         112|   null|\n",
      "|           HV0003|              B02882|2021-02-05 16:13:02|2021-02-05 16:27:48|         229|         234|   null|\n",
      "|           HV0005|              B02510|2021-02-04 17:15:28|2021-02-04 17:24:46|          10|         218|   null|\n",
      "|           HV0003|              B02617|2021-02-04 09:59:58|2021-02-04 10:29:13|          49|         232|   null|\n",
      "|           HV0005|              B02510|2021-02-05 23:34:27|2021-02-05 23:51:05|         125|          17|   null|\n",
      "|           HV0003|              B02875|2021-02-05 20:52:58|2021-02-05 21:19:59|          47|          68|   null|\n",
      "|           HV0003|              B02875|2021-02-04 18:11:00|2021-02-04 18:37:24|          41|         223|   null|\n",
      "+-----------------+--------------------+-------------------+-------------------+------------+------------+-------+\n",
      "only showing top 20 rows\n",
      "\n"
     ]
    }
   ],
   "source": [
    "df.show()"
   ]
  },
  {
   "cell_type": "code",
   "execution_count": 41,
   "id": "4cbd3c2a",
   "metadata": {},
   "outputs": [
    {
     "name": "stderr",
     "output_type": "stream",
     "text": [
      "                                                                                \r"
     ]
    },
    {
     "data": {
      "text/plain": [
       "367170"
      ]
     },
     "execution_count": 41,
     "metadata": {},
     "output_type": "execute_result"
    }
   ],
   "source": [
    "df.filter((df.pickup_datetime >= '2021-02-15 00:00:00') & (df.pickup_datetime <= '2021-02-15 23:59:59')).count()"
   ]
  },
  {
   "cell_type": "code",
   "execution_count": 42,
   "id": "4da6cc21",
   "metadata": {},
   "outputs": [],
   "source": [
    "df.registerTempTable('fhvhv_02')"
   ]
  },
  {
   "cell_type": "code",
   "execution_count": 54,
   "id": "32a242d2",
   "metadata": {},
   "outputs": [
    {
     "name": "stdout",
     "output_type": "stream",
     "text": [
      "+-------------------+-------------------+---------+\n",
      "|    pickup_datetime|   dropoff_datetime|diff_days|\n",
      "+-------------------+-------------------+---------+\n",
      "|2021-02-06 01:18:35|2021-02-06 01:40:34|        0|\n",
      "|2021-02-05 07:13:06|2021-02-05 07:31:56|        0|\n",
      "|2021-02-04 16:56:52|2021-02-04 17:21:36|        0|\n",
      "|2021-02-03 18:34:17|2021-02-03 18:57:12|        0|\n",
      "|2021-02-04 07:25:09|2021-02-04 07:30:34|        0|\n",
      "|2021-02-04 23:15:27|2021-02-04 23:34:29|        0|\n",
      "|2021-02-05 07:45:49|2021-02-05 08:05:03|        0|\n",
      "|2021-02-03 17:33:59|2021-02-03 17:47:14|        0|\n",
      "|2021-02-03 09:33:06|2021-02-03 09:45:59|        0|\n",
      "|2021-02-02 12:58:46|2021-02-02 13:06:20|        0|\n",
      "|2021-02-05 22:25:20|2021-02-05 22:28:27|        0|\n",
      "|2021-02-04 19:57:44|2021-02-04 20:05:24|        0|\n",
      "|2021-02-02 08:43:57|2021-02-02 08:53:46|        0|\n",
      "|2021-02-04 05:51:50|2021-02-04 06:21:25|        0|\n",
      "|2021-02-05 16:13:02|2021-02-05 16:27:48|        0|\n",
      "|2021-02-04 17:15:28|2021-02-04 17:24:46|        0|\n",
      "|2021-02-04 09:59:58|2021-02-04 10:29:13|        0|\n",
      "|2021-02-05 23:34:27|2021-02-05 23:51:05|        0|\n",
      "|2021-02-05 20:52:58|2021-02-05 21:19:59|        0|\n",
      "|2021-02-04 18:11:00|2021-02-04 18:37:24|        0|\n",
      "+-------------------+-------------------+---------+\n",
      "only showing top 20 rows\n",
      "\n"
     ]
    }
   ],
   "source": [
    "spark.sql(\"\"\"\n",
    "SELECT \n",
    "    pickup_datetime, \n",
    "    dropoff_datetime, \n",
    "    DATEDIFF(dropoff_datetime, pickup_datetime) AS diff_days \n",
    "    FROM fhvhv_02\n",
    "\"\"\").show()"
   ]
  },
  {
   "cell_type": "code",
   "execution_count": 56,
   "id": "81af5d6a",
   "metadata": {},
   "outputs": [],
   "source": [
    "from pyspark.sql.functions import *"
   ]
  },
  {
   "cell_type": "code",
   "execution_count": 60,
   "id": "1ebaef99",
   "metadata": {},
   "outputs": [],
   "source": [
    "df2=df.withColumn('from_timestamp',to_timestamp(col('pickup_datetime')))\\\n",
    "  .withColumn('end_timestamp', to_timestamp(col('dropoff_datetime')))\\\n",
    "  .withColumn('DiffInSeconds',col(\"end_timestamp\").cast(\"long\") - col('from_timestamp').cast(\"long\"))"
   ]
  },
  {
   "cell_type": "code",
   "execution_count": 77,
   "id": "2954eebc",
   "metadata": {},
   "outputs": [],
   "source": [
    "df2_sorted = df2.orderBy('DiffInSeconds', ascending=False)"
   ]
  },
  {
   "cell_type": "code",
   "execution_count": 81,
   "id": "b899b07b",
   "metadata": {},
   "outputs": [
    {
     "name": "stderr",
     "output_type": "stream",
     "text": [
      "                                                                                \r"
     ]
    },
    {
     "data": {
      "text/plain": [
       "[Row(hvfhs_license_num='HV0005', dispatching_base_num='B02510', pickup_datetime=datetime.datetime(2021, 2, 11, 13, 40, 44), dropoff_datetime=datetime.datetime(2021, 2, 12, 10, 39, 44), PULocationID=247, DOLocationID=41, SR_Flag=None, from_timestamp=datetime.datetime(2021, 2, 11, 13, 40, 44), end_timestamp=datetime.datetime(2021, 2, 12, 10, 39, 44), DiffInSeconds=75540)]"
      ]
     },
     "execution_count": 81,
     "metadata": {},
     "output_type": "execute_result"
    }
   ],
   "source": [
    "df2_sorted.head(1)"
   ]
  },
  {
   "cell_type": "code",
   "execution_count": 90,
   "id": "8cb6cafb",
   "metadata": {},
   "outputs": [
    {
     "name": "stderr",
     "output_type": "stream",
     "text": [
      "                                                                                \r"
     ]
    },
    {
     "name": "stdout",
     "output_type": "stream",
     "text": [
      "+--------------------+--------+\n",
      "|dispatching_base_num|count(1)|\n",
      "+--------------------+--------+\n",
      "|              B02876|  215693|\n",
      "|              B03136|    1741|\n",
      "|              B02877|  198938|\n",
      "|              B02869|  429720|\n",
      "|              B02883|  251617|\n",
      "|              B02835|  189031|\n",
      "|              B02884|  244963|\n",
      "|              B02880|  115716|\n",
      "|              B02878|  305185|\n",
      "|              B02836|  128978|\n",
      "|              B02872|  882689|\n",
      "|              B02512|   41043|\n",
      "|              B02867|  200530|\n",
      "|              B02866|  311089|\n",
      "|              B02871|  312364|\n",
      "|              B02889|  138762|\n",
      "|              B02844|    3502|\n",
      "|              B02510| 3233664|\n",
      "|              B02888|  169167|\n",
      "|              B02682|  303255|\n",
      "+--------------------+--------+\n",
      "only showing top 20 rows\n",
      "\n"
     ]
    }
   ],
   "source": [
    "spark.sql(\"\"\"\n",
    "SELECT \n",
    "    dispatching_base_num, count(1)\n",
    "    FROM fhvhv_02\n",
    "    group by dispatching_base_num\n",
    "\"\"\").show()"
   ]
  },
  {
   "cell_type": "code",
   "execution_count": 91,
   "id": "e76bdfcc",
   "metadata": {},
   "outputs": [],
   "source": [
    "df_zones = spark.read.parquet('zones/')"
   ]
  },
  {
   "cell_type": "code",
   "execution_count": 92,
   "id": "28f63e2e",
   "metadata": {},
   "outputs": [],
   "source": [
    "df_zones.registerTempTable('zones')"
   ]
  },
  {
   "cell_type": "code",
   "execution_count": 97,
   "id": "714f9c19",
   "metadata": {},
   "outputs": [
    {
     "data": {
      "text/plain": [
       "Row(LocationID='1', Borough='EWR', Zone='Newark Airport', service_zone='EWR')"
      ]
     },
     "execution_count": 97,
     "metadata": {},
     "output_type": "execute_result"
    }
   ],
   "source": [
    "df_zones.head()"
   ]
  },
  {
   "cell_type": "code",
   "execution_count": 102,
   "id": "b39ee122",
   "metadata": {},
   "outputs": [
    {
     "name": "stderr",
     "output_type": "stream",
     "text": [
      "[Stage 129:=========================================>           (158 + 2) / 200]\r"
     ]
    },
    {
     "name": "stdout",
     "output_type": "stream",
     "text": [
      "+---------------------+----------+\n",
      "|concat(Zone, /, Zone)|trip_count|\n",
      "+---------------------+----------+\n",
      "| East New York/Eas...|     45041|\n",
      "| Borough Park/Boro...|     37329|\n",
      "|    Canarsie/Canarsie|     28026|\n",
      "| Crown Heights Nor...|     25976|\n",
      "|  Bay Ridge/Bay Ridge|     17934|\n",
      "| Jackson Heights/J...|     14688|\n",
      "|      Astoria/Astoria|     14688|\n",
      "| Central Harlem No...|     14481|\n",
      "| Bushwick South/Bu...|     14424|\n",
      "| Flatbush/Ditmas P...|     13976|\n",
      "| South Ozone Park/...|     13716|\n",
      "| Brownsville/Brown...|     12829|\n",
      "|       JFK Airport/NA|     12542|\n",
      "| Prospect-Lefferts...|     11814|\n",
      "| Forest Hills/Fore...|     11548|\n",
      "| Bushwick North/Bu...|     11491|\n",
      "| Bushwick South/Bu...|     11487|\n",
      "| Crown Heights Nor...|     11462|\n",
      "| Crown Heights Nor...|     11342|\n",
      "| Prospect-Lefferts...|     11308|\n",
      "+---------------------+----------+\n",
      "only showing top 20 rows\n",
      "\n"
     ]
    },
    {
     "name": "stderr",
     "output_type": "stream",
     "text": [
      "                                                                                \r"
     ]
    }
   ],
   "source": [
    "spark.sql(\"\"\"\n",
    "select\n",
    "  concat(zpu.Zone, '/', zdo.Zone),\n",
    "  count(1) as trip_count\n",
    "from\n",
    "    fhvhv_02 fhv join zones zpu\n",
    "        on fhv.PULocationID = zpu.LocationID\n",
    "    join zones zdo\n",
    "        on fhv.DOLocationID = zdo.LocationID\n",
    "group by 1\n",
    "order by trip_count desc\n",
    "\"\"\").show()"
   ]
  }
 ],
 "metadata": {
  "kernelspec": {
   "display_name": "Python 3 (ipykernel)",
   "language": "python",
   "name": "python3"
  },
  "language_info": {
   "codemirror_mode": {
    "name": "ipython",
    "version": 3
   },
   "file_extension": ".py",
   "mimetype": "text/x-python",
   "name": "python",
   "nbconvert_exporter": "python",
   "pygments_lexer": "ipython3",
   "version": "3.9.7"
  }
 },
 "nbformat": 4,
 "nbformat_minor": 5
}
